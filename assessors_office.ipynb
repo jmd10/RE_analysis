{
 "cells": [
  {
   "cell_type": "code",
   "execution_count": 1,
   "metadata": {},
   "outputs": [],
   "source": [
    "# First, import necessary packages\n",
    "import pandas as pd\n",
    "from pandas import DataFrame\n",
    "import numpy as np\n",
    "import matplotlib.pyplot as plt"
   ]
  },
  {
   "cell_type": "markdown",
   "metadata": {},
   "source": [
    "### The point of this exercise is to investigate the issue with no residential properties being listed as being built after 2013\n",
    "\n",
    "**As I go through ensure that I check both the 'Admin_ACTYEARBLT' and 'Admin_EFFYEARBLT'**"
   ]
  },
  {
   "cell_type": "code",
   "execution_count": 2,
   "metadata": {},
   "outputs": [],
   "source": [
    "# Read the csv with all parcels\n",
    "parcels = pd.read_csv('Admin.csv')"
   ]
  },
  {
   "cell_type": "code",
   "execution_count": 53,
   "metadata": {},
   "outputs": [
    {
     "data": {
      "text/plain": [
       "Index(['SCHEDULE,C,7', 'PIN,C,12', 'MAPNUM,C,4', 'SEC_QUAD,C,3', 'BLK,C,2',\n",
       "       'PARCELNB,C,3', 'OWNER,C,40', 'CAREOF,C,40', 'MAILINGADD,C,40',\n",
       "       'CITY,C,40', 'STATE,C,2', 'ZIPCODE,C,10', 'IMPACT,N,19,11',\n",
       "       'IMPASD,N,19,11', 'ACTLANDVAL,N,19,11', 'ASDLANDVAL,N,19,11',\n",
       "       'AREAID,C,6', 'SUBDIVCODE,C,4', 'SUBNAME,C,40', 'BLOCK,C,5', 'LOT,C,5',\n",
       "       'ANDTHRU,C,1', 'ANDLOT,C,5', 'CONDOCODE,C,4', 'CONNAME,C,40',\n",
       "       'CONDOUNIT,C,6', 'LEGAL_NC,C,100', 'USE_CODE,C,6', 'UC_DESC,C,40',\n",
       "       'LAND_CODE,C,6', 'ACTYEARBLT,C,4', 'EFFYEARBLT,C,4', 'BATHS,C,5',\n",
       "       'BEDROOMS,C,5', 'STORIES,C,5', 'ARCH_STYLE,C,5', 'HEAT_TYPE,C,5',\n",
       "       'HEAT_FUEL,C,5', 'CONST_QUAL,C,5', 'CONDITION,C,5',\n",
       "       'HEATEDAREA,N,19,11', 'LANDAREA,N,19,11', 'NEIGHBORHD,N,19,11',\n",
       "       'SALEDATE,D', 'DEEDTYPE,C,4', 'SALEPRICE,N,19,11', 'UPDATEDATE,C,10'],\n",
       "      dtype='object')"
      ]
     },
     "execution_count": 53,
     "metadata": {},
     "output_type": "execute_result"
    }
   ],
   "source": [
    "# What are the column names so we can use for creating sub-arrays\n",
    "parcels.columns"
   ]
  },
  {
   "cell_type": "code",
   "execution_count": 54,
   "metadata": {},
   "outputs": [
    {
     "data": {
      "text/plain": [
       "METES & BOUNDS 76 ALL    858\n",
       "INNSBRUCK-VAL MORITZ     569\n",
       "COLUMBINE LAKE           544\n",
       "METES & BOUNDS 75 ALL    474\n",
       "GRAND LAKE               382\n",
       "Name: SUBNAME,C,40, dtype: int64"
      ]
     },
     "execution_count": 54,
     "metadata": {},
     "output_type": "execute_result"
    }
   ],
   "source": [
    "x = parcels['SUBNAME,C,40'].value_counts()\n",
    "x[x > 1].head()"
   ]
  },
  {
   "cell_type": "code",
   "execution_count": 55,
   "metadata": {},
   "outputs": [
    {
     "data": {
      "text/plain": [
       "'METES & BOUNDS 75 ALL'"
      ]
     },
     "execution_count": 55,
     "metadata": {},
     "output_type": "execute_result"
    }
   ],
   "source": [
    "parcels['SUBNAME,C,40'][0]"
   ]
  },
  {
   "cell_type": "code",
   "execution_count": 67,
   "metadata": {},
   "outputs": [],
   "source": [
    "filter = parcels['SUBNAME,C,40'].dropna() #str.contains('Rendevous', regex=False)\n",
    "filter1 = filter.str.contains('GRAND PARK', regex=False)"
   ]
  },
  {
   "cell_type": "code",
   "execution_count": 69,
   "metadata": {},
   "outputs": [
    {
     "data": {
      "text/plain": [
       "COZENS POINTE AT GRAND PARK                 134\n",
       "COZENS MEADOW AT GRAND PARK AMEND NO 1       61\n",
       "MEADOWS AT GRAND PARK FILING 1               43\n",
       "ELK CREEK AT GRAND PARK FILING 4             43\n",
       "ELK CREEK AT GRAND PARK FILING 3             28\n",
       "WILLOWS AT GRAND PARK                        26\n",
       "WILLOWS AT GRAND PARK FILING 3               26\n",
       "ELK CREEK AT GRAND PARK FILING 1             22\n",
       "WILLOWS AT GRAND PARK FILING 2               20\n",
       "ELK CREEK AT GRAND PARK FILING 2             18\n",
       "MOOSE HOLLOW AT GRAND PARK PHASE 1            9\n",
       "VILLAGE AT GRAND PARK FILING 1 (GENERAL*      8\n",
       "GRAND PARK DRIVE EXEMPTION                    3\n",
       "ELK CREEK CONDOMINIUMS AT GRAND PARK          2\n",
       "VILLAGE AT GRAND PARK FILING 2                2\n",
       "GRAND PARK SUBDIVISION                        1\n",
       "VILLAGE AT GRAND PARK FILING 2A               1\n",
       "VILLAGE AT GRAND PARK FILING 2 LOT 12C        1\n",
       "Name: SUBNAME,C,40, dtype: int64"
      ]
     },
     "execution_count": 69,
     "metadata": {},
     "output_type": "execute_result"
    }
   ],
   "source": [
    "x = parcels.where(filter1)\n",
    "x['SUBNAME,C,40'].value_counts()"
   ]
  },
  {
   "cell_type": "code",
   "execution_count": null,
   "metadata": {},
   "outputs": [],
   "source": []
  },
  {
   "cell_type": "code",
   "execution_count": null,
   "metadata": {},
   "outputs": [],
   "source": []
  },
  {
   "cell_type": "markdown",
   "metadata": {},
   "source": [
    "From the information above, let's do a similar analysis to see how many residential parcels have a \"EFFYEARBLT\" after 2010."
   ]
  },
  {
   "cell_type": "code",
   "execution_count": 4,
   "metadata": {},
   "outputs": [
    {
     "data": {
      "text/plain": [
       "535"
      ]
     },
     "execution_count": 4,
     "metadata": {},
     "output_type": "execute_result"
    }
   ],
   "source": [
    "x = parcels[parcels['EFFYEARBLT,C,4'] > 2010]\n",
    "len(x)"
   ]
  },
  {
   "cell_type": "markdown",
   "metadata": {},
   "source": [
    "So, there are 535 parcels with an \"EFFYEARBLT\" greater than 2010. What is the max?"
   ]
  },
  {
   "cell_type": "code",
   "execution_count": 5,
   "metadata": {},
   "outputs": [
    {
     "data": {
      "text/plain": [
       "2019.0"
      ]
     },
     "execution_count": 5,
     "metadata": {},
     "output_type": "execute_result"
    }
   ],
   "source": [
    "x['EFFYEARBLT,C,4'].max()"
   ]
  },
  {
   "cell_type": "markdown",
   "metadata": {},
   "source": [
    "So, there are parcels that have an \"EFFYEARBLT\" of greater than 2010 and all the way up to 2019, the last year we would expect. \n",
    "\n",
    "How about specific to residential, which is where our problem arose in the first place?"
   ]
  },
  {
   "cell_type": "code",
   "execution_count": 6,
   "metadata": {},
   "outputs": [],
   "source": [
    "res = x[x['UC_DESC,C,40'] == 'Residential Improved']"
   ]
  },
  {
   "cell_type": "code",
   "execution_count": 7,
   "metadata": {},
   "outputs": [
    {
     "data": {
      "text/plain": [
       "179"
      ]
     },
     "execution_count": 7,
     "metadata": {},
     "output_type": "execute_result"
    }
   ],
   "source": [
    "len(res)"
   ]
  },
  {
   "cell_type": "markdown",
   "metadata": {},
   "source": [
    "We have 179 residential improved parcels constructed after 2010. This is in alignment with my finding, somewhere else, that it seems about 60 homes are being built per year, if 2013 is the max year. "
   ]
  },
  {
   "cell_type": "code",
   "execution_count": 8,
   "metadata": {},
   "outputs": [
    {
     "data": {
      "text/plain": [
       "2013.0"
      ]
     },
     "execution_count": 8,
     "metadata": {},
     "output_type": "execute_result"
    }
   ],
   "source": [
    "res['EFFYEARBLT,C,4'].max()"
   ]
  },
  {
   "cell_type": "markdown",
   "metadata": {},
   "source": [
    "This still shows 2013 as being the max year for 'EFFYEARBLT'.\n",
    "\n",
    "Just to assuage the woman's potential pushback, let us try 'ACTYEARBLT', even though many of the parcels have a \"0\" for this data, even when there is an \"EFFYEARBLT\". \n",
    "\n"
   ]
  },
  {
   "cell_type": "code",
   "execution_count": 9,
   "metadata": {},
   "outputs": [
    {
     "data": {
      "text/plain": [
       "0.0"
      ]
     },
     "execution_count": 9,
     "metadata": {},
     "output_type": "execute_result"
    }
   ],
   "source": [
    "res['ACTYEARBLT,C,4'].max()"
   ]
  },
  {
   "cell_type": "markdown",
   "metadata": {},
   "source": [
    "This is in alignment with what I saw going manually through the dataset, in that there was no \"ACTYEARBLT\" for any \"Residential Improved\"\n",
    "\n",
    "So, if \"Residential Improved\" does not have anything past 2013, what does? We know condos do. about the others? "
   ]
  },
  {
   "cell_type": "code",
   "execution_count": 10,
   "metadata": {},
   "outputs": [
    {
     "name": "stdout",
     "output_type": "stream",
     "text": [
      "nan nan\n",
      "Residential Vacant 0.0\n",
      "Residential Improved 0.0\n",
      "Improved Metes & Bounds 0.0\n",
      "Tax Exempt 2014.0\n",
      "Vacant Land Metes & Bounds 0.0\n",
      "Agricultural 0.0\n",
      "Multi-Comm-Res-Ag-MH 2017.0\n",
      "Condominium Improved 2018.0\n",
      "Mobile Home/Res Metes & Bounds nan\n",
      "Ag Odyssey 0.0\n",
      "Mobile Home Land 0.0\n",
      "Commercial Improved 2018.0\n",
      "Commercial Vacant nan\n",
      "Multi Units 9 & Up 0.0\n",
      "Conservation Easement 0.0\n",
      "Improvements Only 2012.0\n",
      "Multi Units 4-8 nan\n",
      "Mobile Homes Only 0.0\n",
      "Forest Ag nan\n",
      "Duplex-Triplex 0.0\n",
      "Industrial Improved nan\n",
      "Mother-In-Law Duplex nan\n",
      "Condominium Vacant nan\n",
      "Industrial Vacant nan\n",
      "Severed Mineral Interst nan\n",
      "Cemetery nan\n",
      "Patented Mining Claim nan\n",
      "Vacant land Metes & Bounds nan\n"
     ]
    }
   ],
   "source": [
    "# Get different land use types\n",
    "y = parcels['UC_DESC,C,40']\n",
    "uc = y.unique()\n",
    "\n",
    "for i in uc:\n",
    "    z = x[x['UC_DESC,C,40'] == i]\n",
    "    print(i, z['ACTYEARBLT,C,4'].max())"
   ]
  },
  {
   "cell_type": "markdown",
   "metadata": {},
   "source": [
    "As we see here, only Condo Improved (2018), Improvements only (2012), and Multi-Comm-Res... (2017) have any value for \"ACTYEARBLT\". \n",
    "\n",
    "Let's do the same but for \"EFFYEARBLT\".\n"
   ]
  },
  {
   "cell_type": "code",
   "execution_count": 61,
   "metadata": {},
   "outputs": [
    {
     "name": "stdout",
     "output_type": "stream",
     "text": [
      "nan nan\n",
      "Residential Vacant 2013.0\n",
      "Residential Improved 2013.0\n",
      "Improved Metes & Bounds 2013.0\n",
      "Tax Exempt 2014.0\n",
      "Vacant Land Metes & Bounds 2013.0\n",
      "Agricultural 2013.0\n",
      "Multi-Comm-Res-Ag-MH 2017.0\n",
      "Condominium Improved 2018.0\n",
      "Mobile Home/Res Metes & Bounds nan\n",
      "Ag Odyssey 2011.0\n",
      "Mobile Home Land 2012.0\n",
      "Commercial Improved 2018.0\n",
      "Commercial Vacant nan\n",
      "Multi Units 9 & Up 2013.0\n",
      "Conservation Easement 2012.0\n",
      "Improvements Only 2012.0\n",
      "Multi Units 4-8 nan\n",
      "Mobile Homes Only 2012.0\n",
      "Forest Ag nan\n",
      "Duplex-Triplex 2013.0\n",
      "Industrial Improved nan\n",
      "Mother-In-Law Duplex nan\n",
      "Condominium Vacant nan\n",
      "Industrial Vacant nan\n",
      "Severed Mineral Interst nan\n",
      "Cemetery nan\n",
      "Patented Mining Claim nan\n",
      "Vacant land Metes & Bounds nan\n"
     ]
    }
   ],
   "source": [
    "for i in uc:\n",
    "    aa = x[x['UC_DESC,C,40'] == i]\n",
    "    print(i, aa['EFFYEARBLT,C,4'].max())"
   ]
  },
  {
   "cell_type": "markdown",
   "metadata": {},
   "source": [
    "We can see here that almost everything maxes out at 2013 or 2012. Commercial Improved and Condo Improved being the most recent. The issue is that none of these reach 2019... This is likely because of the Use_code, instead of the UC_Desc.\n",
    "\n",
    "Let's try that... "
   ]
  },
  {
   "cell_type": "code",
   "execution_count": 64,
   "metadata": {},
   "outputs": [
    {
     "data": {
      "text/plain": [
       "array([   0., 1111., 1000.,  501.,   nan, 9000.,  500., 4000., 7500.,\n",
       "       4002., 1100., 1300., 4001., 1200., 2000., 2111., 1225., 4003.,\n",
       "        100., 2100., 1220.,  150., 1215., 3000., 1214., 1101., 3111.,\n",
       "       5170., 1145., 5140.])"
      ]
     },
     "execution_count": 64,
     "metadata": {},
     "output_type": "execute_result"
    }
   ],
   "source": [
    "# Get different land use types by 'USE_CODE', instead of the description\n",
    "holder = parcels['USE_CODE,C,6']\n",
    "user_codes = holder.unique()\n",
    "user_codes"
   ]
  },
  {
   "cell_type": "code",
   "execution_count": 69,
   "metadata": {},
   "outputs": [
    {
     "name": "stdout",
     "output_type": "stream",
     "text": [
      "0.0 0.0\n",
      "1111.0 2013.0\n",
      "1000.0 2013.0\n",
      "501.0 2013.0\n",
      "nan nan\n",
      "9000.0 2014.0\n",
      "500.0 2013.0\n",
      "4000.0 2013.0\n",
      "7500.0 2017.0\n",
      "4002.0 2006.0\n",
      "1100.0 2019.0\n",
      "1300.0 2008.0\n",
      "4001.0 2011.0\n",
      "1200.0 2012.0\n",
      "2000.0 2019.0\n",
      "2111.0 2009.0\n",
      "1225.0 2013.0\n",
      "4003.0 2012.0\n",
      "100.0 2012.0\n",
      "2100.0 1997.0\n",
      "1220.0 1999.0\n",
      "150.0 2012.0\n",
      "1215.0 2013.0\n",
      "3000.0 2010.0\n",
      "1214.0 2005.0\n",
      "1101.0 2009.0\n",
      "3111.0 0.0\n",
      "5170.0 0.0\n",
      "1145.0 0.0\n",
      "5140.0 0.0\n"
     ]
    }
   ],
   "source": [
    "for i in user_codes:\n",
    "    result = parcels[parcels['USE_CODE,C,6'] == i]\n",
    "    print(i, result['EFFYEARBLT,C,4'].max())\n"
   ]
  },
  {
   "cell_type": "code",
   "execution_count": null,
   "metadata": {},
   "outputs": [],
   "source": []
  }
 ],
 "metadata": {
  "kernelspec": {
   "display_name": "Python 3",
   "language": "python",
   "name": "python3"
  },
  "language_info": {
   "codemirror_mode": {
    "name": "ipython",
    "version": 3
   },
   "file_extension": ".py",
   "mimetype": "text/x-python",
   "name": "python",
   "nbconvert_exporter": "python",
   "pygments_lexer": "ipython3",
   "version": "3.7.3"
  }
 },
 "nbformat": 4,
 "nbformat_minor": 2
}
